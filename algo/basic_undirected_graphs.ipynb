{
  "nbformat": 4,
  "nbformat_minor": 0,
  "metadata": {
    "colab": {
      "provenance": [],
      "authorship_tag": "ABX9TyMRI1jA8k1x6o8/tBJsQk7P",
      "include_colab_link": true
    },
    "kernelspec": {
      "name": "python3",
      "display_name": "Python 3"
    },
    "language_info": {
      "name": "python"
    }
  },
  "cells": [
    {
      "cell_type": "markdown",
      "metadata": {
        "id": "view-in-github",
        "colab_type": "text"
      },
      "source": [
        "<a href=\"https://colab.research.google.com/github/drameyjoshi/dsa/blob/main/algo/basic_undirected_graphs.ipynb\" target=\"_parent\"><img src=\"https://colab.research.google.com/assets/colab-badge.svg\" alt=\"Open In Colab\"/></a>"
      ]
    },
    {
      "cell_type": "code",
      "source": [
        "import logging\n",
        "import random\n",
        "from collections import deque\n",
        "from typing import List"
      ],
      "metadata": {
        "id": "KNuRN_mvB8OO"
      },
      "execution_count": 95,
      "outputs": []
    },
    {
      "cell_type": "code",
      "execution_count": 96,
      "metadata": {
        "id": "tTZIvM67_SMx"
      },
      "outputs": [],
      "source": [
        "def create_random_graph(nv: int, ne: int) -> List[List[int]]:\n",
        "    \"\"\"Create a random graph of with given size.\n",
        "\n",
        "    Parameters:\n",
        "    nv: a positive integer\n",
        "    ne: a positive integer\n",
        "\n",
        "    Return:\n",
        "    An undirected graph with nv vertices and ne edges in the form of an \n",
        "    adjacency list.\n",
        "\n",
        "    \"\"\"    \n",
        "    assert(nv > 0)\n",
        "    assert(ne > 0)\n",
        "\n",
        "    if ne > nv * (nv - 1)//2:\n",
        "        logger.warning(\"Asking for more edges than can be in a complete graph.\")\n",
        "        ne = nv * (nv - 1)//2\n",
        "\n",
        "    G = [[] for n in range(nv)]\n",
        "    n_edges = 0\n",
        "\n",
        "    random.seed()\n",
        "    while n_edges < ne:\n",
        "        s = random.randint(0, nv - 1)\n",
        "        d = random.randint(0, nv - 1)\n",
        "\n",
        "        if s != d and d not in G[s]:\n",
        "            G[s].append(d)\n",
        "            G[d].append(s)\n",
        "            n_edges += 1\n",
        "\n",
        "\n",
        "    return G\n"
      ]
    },
    {
      "cell_type": "code",
      "source": [
        "def print_graph(G: List[List[int]]):\n",
        "    \"\"\"Prints a graph.\n",
        "\n",
        "    Parameters:\n",
        "    G: the graph expressed as an adjacency list.\n",
        "    \"\"\"\n",
        "    print(f\"# vertices: {len(G)}\")\n",
        "    ne = 0\n",
        "    for n in range(len(G)):\n",
        "        ne += len(G[n])\n",
        "\n",
        "    print(f'# edges: {ne//2}')\n",
        "\n",
        "    for n in range(len(G)):\n",
        "        adj = f\"{n}: \"\n",
        "\n",
        "        print(adj + \",\".join([str(k) for k in G[n]]))"
      ],
      "metadata": {
        "id": "ilx11sgnCS7E"
      },
      "execution_count": 97,
      "outputs": []
    },
    {
      "cell_type": "code",
      "source": [
        "def breadth_first_search(G: List[List[int]], start: int) -> List[int]:\n",
        "    \"\"\"Breadth first search of an undirected graph.\n",
        "\n",
        "    Parameters:\n",
        "    G: the undirected graph as an adjacency list.\n",
        "\n",
        "    Return:\n",
        "    A list of the vertices in which the graph is traversed.\n",
        "    \"\"\"\n",
        "    logger.info(f\"Starting breadth first search from {start}.\")\n",
        "    visited = [False] * len(G)\n",
        "    bfs = []\n",
        "    q = deque()\n",
        "    q.append(start)\n",
        "    visited[start] = True\n",
        "\n",
        "    while q:\n",
        "        v = q.popleft()        \n",
        "        bfs.append(v)\n",
        "        for w in G[v]:\n",
        "            if not visited[w]:\n",
        "                visited[w] = True\n",
        "                q.append(w)\n",
        "\n",
        "    return bfs\n"
      ],
      "metadata": {
        "id": "0meDLmotHFRl"
      },
      "execution_count": 98,
      "outputs": []
    },
    {
      "cell_type": "code",
      "source": [
        "def depth_first_search(G: List[List[int]], start: int) -> List[int]:\n",
        "    \"\"\"Depth first search of an undirected graph.\n",
        "\n",
        "    Parameters:\n",
        "    G: the undirected graph as an adjacency list.\n",
        "\n",
        "    Return:\n",
        "    A list of the vertices in which the graph is traversed.\n",
        "    \"\"\"\n",
        "    logger.info(f\"Starting depth first search from {start}.\")\n",
        "    visited = [False] * len(G)\n",
        "    dfs = []\n",
        "    q = deque()\n",
        "    q.append(start)\n",
        "    visited[start] = True\n",
        "\n",
        "    while q:\n",
        "        v = q.pop()        \n",
        "        dfs.append(v)\n",
        "        for w in G[v]:\n",
        "            if not visited[w]:\n",
        "                visited[w] = True\n",
        "                q.append(w)\n",
        "\n",
        "    return dfs\n"
      ],
      "metadata": {
        "id": "aCWWH2c-VRW2"
      },
      "execution_count": 99,
      "outputs": []
    },
    {
      "cell_type": "code",
      "source": [
        "def main():    \n",
        "    n_vertices = 5\n",
        "    n_edges = 6\n",
        "\n",
        "    G1 = create_random_graph(n_vertices, n_edges)\n",
        "    print_graph(G1)\n",
        "    bfs = breadth_first_search(G1, random.randint(0, n_vertices))\n",
        "    print(bfs)\n",
        "    dfs = depth_first_search(G1, random.randint(0, n_vertices))\n",
        "    print(dfs)"
      ],
      "metadata": {
        "id": "sOoXJiyOC7r5"
      },
      "execution_count": 100,
      "outputs": []
    },
    {
      "cell_type": "code",
      "source": [
        "logger = logging.getLogger(name = 'basic_undirected_graphs')\n",
        "logger.setLevel(logging.INFO)\n",
        "main()"
      ],
      "metadata": {
        "colab": {
          "base_uri": "https://localhost:8080/"
        },
        "id": "dgLCIIgVDWln",
        "outputId": "5d50e8c4-a4e7-499f-9c4c-ce0844fb2bdb"
      },
      "execution_count": 101,
      "outputs": [
        {
          "output_type": "stream",
          "name": "stderr",
          "text": [
            "INFO:basic_undirected_graphs:Starting breadth first search from 1.\n",
            "INFO:basic_undirected_graphs:Starting depth first search from 4.\n"
          ]
        },
        {
          "output_type": "stream",
          "name": "stdout",
          "text": [
            "# vertices: 5\n",
            "# edges: 6\n",
            "0: 1,3\n",
            "1: 0,3,2\n",
            "2: 3,1,4\n",
            "3: 2,1,0\n",
            "4: 2\n",
            "[1, 0, 3, 2, 4]\n",
            "[4, 2, 1, 0, 3]\n"
          ]
        }
      ]
    }
  ]
}