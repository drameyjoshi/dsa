{
  "nbformat": 4,
  "nbformat_minor": 0,
  "metadata": {
    "colab": {
      "provenance": [],
      "authorship_tag": "ABX9TyM3NMBaYFR1Ycm4HoDLt0ek",
      "include_colab_link": true
    },
    "kernelspec": {
      "name": "python3",
      "display_name": "Python 3"
    },
    "language_info": {
      "name": "python"
    }
  },
  "cells": [
    {
      "cell_type": "markdown",
      "metadata": {
        "id": "view-in-github",
        "colab_type": "text"
      },
      "source": [
        "<a href=\"https://colab.research.google.com/github/drameyjoshi/dsa/blob/main/algo/basic_undirected_graphs.ipynb\" target=\"_parent\"><img src=\"https://colab.research.google.com/assets/colab-badge.svg\" alt=\"Open In Colab\"/></a>"
      ]
    },
    {
      "cell_type": "code",
      "source": [
        "import logging\n",
        "import random\n",
        "from collections import deque\n",
        "from typing import List"
      ],
      "metadata": {
        "id": "KNuRN_mvB8OO"
      },
      "execution_count": 116,
      "outputs": []
    },
    {
      "cell_type": "code",
      "execution_count": 117,
      "metadata": {
        "id": "tTZIvM67_SMx"
      },
      "outputs": [],
      "source": [
        "def create_random_graph(nv: int, ne: int) -> List[List[int]]:\n",
        "    \"\"\"Create a random graph of with given size.\n",
        "\n",
        "    Parameters:\n",
        "    nv: number of vertices, a positive integer\n",
        "    ne: number of edges, a positive integer\n",
        "\n",
        "    Return:\n",
        "    An undirected graph with nv vertices and ne edges in the form of an \n",
        "    adjacency list.\n",
        "\n",
        "    \"\"\"    \n",
        "    assert(nv > 0)\n",
        "    assert(ne > 0)\n",
        "\n",
        "    if ne > nv * (nv - 1)//2:\n",
        "        logger.warning(\"Asking for more edges than can be in a complete graph.\")\n",
        "        ne = nv * (nv - 1)//2\n",
        "\n",
        "    G = [[] for n in range(nv)]\n",
        "    n_edges = 0\n",
        "\n",
        "    random.seed()\n",
        "    while n_edges < ne:\n",
        "        s = random.randint(0, nv - 1)\n",
        "        d = random.randint(0, nv - 1)\n",
        "\n",
        "        if s != d and d not in G[s]:\n",
        "            G[s].append(d)\n",
        "            G[d].append(s)\n",
        "            n_edges += 1\n",
        "\n",
        "\n",
        "    return G\n"
      ]
    },
    {
      "cell_type": "code",
      "source": [
        "def print_graph(G: List[List[int]]):\n",
        "    \"\"\"Prints a graph.\n",
        "\n",
        "    Parameters:\n",
        "    G: the graph expressed as an adjacency list.\n",
        "    \"\"\"\n",
        "    print(f\"# vertices: {len(G)}\")\n",
        "    ne = 0\n",
        "    for n in range(len(G)):\n",
        "        ne += len(G[n])\n",
        "\n",
        "    print(f'# edges: {ne//2}')\n",
        "\n",
        "    for n in range(len(G)):\n",
        "        adj = f\"{n}: \"\n",
        "\n",
        "        print(adj + \",\".join([str(k) for k in G[n]]))"
      ],
      "metadata": {
        "id": "ilx11sgnCS7E"
      },
      "execution_count": 118,
      "outputs": []
    },
    {
      "cell_type": "code",
      "source": [
        "def breadth_first_search(G: List[List[int]], start: int) -> List[int]:\n",
        "    \"\"\"Breadth first search of an undirected graph.\n",
        "\n",
        "    Parameters:\n",
        "    G: the undirected graph as an adjacency list.\n",
        "\n",
        "    Return:\n",
        "    A list of the vertices in which the graph is traversed.\n",
        "    \"\"\"\n",
        "    logger.info(f\"Starting breadth first search from {start}.\")\n",
        "    visited = [False] * len(G)\n",
        "    bfs = []\n",
        "    q = deque()\n",
        "    q.append(start)\n",
        "    visited[start] = True\n",
        "\n",
        "    while q:\n",
        "        v = q.popleft()        \n",
        "        bfs.append(v)\n",
        "        for w in G[v]:\n",
        "            if not visited[w]:\n",
        "                visited[w] = True\n",
        "                q.append(w)\n",
        "\n",
        "    return bfs\n"
      ],
      "metadata": {
        "id": "0meDLmotHFRl"
      },
      "execution_count": 119,
      "outputs": []
    },
    {
      "cell_type": "code",
      "source": [
        "def depth_first_search(G: List[List[int]], start: int) -> List[int]:\n",
        "    \"\"\"Depth first search of an undirected graph.\n",
        "\n",
        "    Parameters:\n",
        "    G: the undirected graph as an adjacency list.\n",
        "\n",
        "    Return:\n",
        "    A list of the vertices in which the graph is traversed.\n",
        "    \"\"\"\n",
        "    logger.info(f\"Starting depth first search from {start}.\")\n",
        "    visited = [False] * len(G)\n",
        "    dfs = []\n",
        "    q = deque()\n",
        "    q.append(start)\n",
        "    visited[start] = True\n",
        "\n",
        "    while q:\n",
        "        v = q.pop()        \n",
        "        dfs.append(v)\n",
        "        for w in G[v]:\n",
        "            if not visited[w]:\n",
        "                visited[w] = True\n",
        "                q.append(w)\n",
        "\n",
        "    return dfs\n"
      ],
      "metadata": {
        "id": "aCWWH2c-VRW2"
      },
      "execution_count": 120,
      "outputs": []
    },
    {
      "cell_type": "code",
      "source": [
        "def check_traversal(G: List[List[int]], t: List[int]):\n",
        "    possible_error = False\n",
        "    error = False\n",
        "\n",
        "    if (len(t) != len(G)):\n",
        "        logger.warning(\"Check if the graph is connected.\")\n",
        "        possible_error = True\n",
        "\n",
        "    for n in range(len(G)):\n",
        "        if n not in t:\n",
        "            logger.warning(\"Vertex {n} is not being traversed.\")\n",
        "            logger.warning(\"Check if the graph is connected.\")\n",
        "            possible_error = True\n",
        "\n",
        "    freq = {}\n",
        "    for v in t:\n",
        "        freq[v] = freq.get(v, 0) + 1\n",
        "\n",
        "    for k in freq.keys():\n",
        "        if freq[k] > 1:\n",
        "            logger.error(\"Vertex {k} is visited {freq[k]} times.\")\n",
        "            error = True    \n",
        "\n",
        "    if not error:\n",
        "        logger.info(\"Traversal seems to be correct.\")\n"
      ],
      "metadata": {
        "id": "elLoJ7llYEjT"
      },
      "execution_count": 121,
      "outputs": []
    },
    {
      "cell_type": "code",
      "source": [
        "def main():    \n",
        "    n_vertices = 5\n",
        "    n_edges = 6\n",
        "\n",
        "    G = create_random_graph(n_vertices, n_edges)\n",
        "    print_graph(G)\n",
        "    bfs = breadth_first_search(G, random.randint(0, n_vertices - 1))\n",
        "    print(bfs)\n",
        "    check_traversal(G, bfs)\n",
        "    dfs = depth_first_search(G, random.randint(0, n_vertices - 1))\n",
        "    print(dfs)\n",
        "    check_traversal(G, dfs)"
      ],
      "metadata": {
        "id": "sOoXJiyOC7r5"
      },
      "execution_count": 122,
      "outputs": []
    },
    {
      "cell_type": "code",
      "source": [
        "logger = logging.getLogger(name = 'basic_undirected_graphs')\n",
        "logger.setLevel(logging.INFO)\n",
        "main()"
      ],
      "metadata": {
        "colab": {
          "base_uri": "https://localhost:8080/"
        },
        "id": "dgLCIIgVDWln",
        "outputId": "47694721-d7c8-4d06-d473-c792e812ff20"
      },
      "execution_count": 123,
      "outputs": [
        {
          "output_type": "stream",
          "name": "stderr",
          "text": [
            "INFO:basic_undirected_graphs:Starting breadth first search from 1.\n",
            "INFO:basic_undirected_graphs:Traversal seems to be correct.\n",
            "INFO:basic_undirected_graphs:Starting depth first search from 4.\n",
            "INFO:basic_undirected_graphs:Traversal seems to be correct.\n"
          ]
        },
        {
          "output_type": "stream",
          "name": "stdout",
          "text": [
            "# vertices: 5\n",
            "# edges: 6\n",
            "0: 4,2\n",
            "1: 2,3,4\n",
            "2: 1,4,0\n",
            "3: 1\n",
            "4: 2,0,1\n",
            "[1, 2, 3, 4, 0]\n",
            "[4, 1, 3, 0, 2]\n"
          ]
        }
      ]
    }
  ]
}