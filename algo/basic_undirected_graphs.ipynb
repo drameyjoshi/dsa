{
  "nbformat": 4,
  "nbformat_minor": 0,
  "metadata": {
    "colab": {
      "provenance": [],
      "authorship_tag": "ABX9TyMgI3ILzBisxMuCSi/JayAF",
      "include_colab_link": true
    },
    "kernelspec": {
      "name": "python3",
      "display_name": "Python 3"
    },
    "language_info": {
      "name": "python"
    }
  },
  "cells": [
    {
      "cell_type": "markdown",
      "metadata": {
        "id": "view-in-github",
        "colab_type": "text"
      },
      "source": [
        "<a href=\"https://colab.research.google.com/github/drameyjoshi/dsa/blob/main/algo/basic_undirected_graphs.ipynb\" target=\"_parent\"><img src=\"https://colab.research.google.com/assets/colab-badge.svg\" alt=\"Open In Colab\"/></a>"
      ]
    },
    {
      "cell_type": "code",
      "source": [
        "import logging\n",
        "import random\n",
        "from collections import deque\n",
        "from typing import List"
      ],
      "metadata": {
        "id": "KNuRN_mvB8OO"
      },
      "execution_count": 155,
      "outputs": []
    },
    {
      "cell_type": "code",
      "execution_count": 156,
      "metadata": {
        "id": "tTZIvM67_SMx"
      },
      "outputs": [],
      "source": [
        "def create_random_graph(nv: int, ne: int) -> List[List[int]]:\n",
        "    \"\"\"Create a random graph of with given size.\n",
        "\n",
        "    Parameters:\n",
        "    nv: number of vertices, a positive integer\n",
        "    ne: number of edges, a positive integer\n",
        "\n",
        "    Return:\n",
        "    An undirected graph with nv vertices and ne edges in the form of an \n",
        "    adjacency list.\n",
        "\n",
        "    \"\"\"    \n",
        "    assert(nv > 0)\n",
        "    assert(ne > 0)\n",
        "\n",
        "    if ne > nv * (nv - 1)//2:\n",
        "        logger.warning(\"Asking for more edges than can be in a complete graph.\")\n",
        "        ne = nv * (nv - 1)//2\n",
        "\n",
        "    G = [[] for n in range(nv)]\n",
        "    n_edges = 0\n",
        "\n",
        "    random.seed()\n",
        "    while n_edges < ne:\n",
        "        s = random.randint(0, nv - 1)\n",
        "        d = random.randint(0, nv - 1)\n",
        "\n",
        "        if s != d and d not in G[s]:\n",
        "            G[s].append(d)\n",
        "            G[d].append(s)\n",
        "            n_edges += 1\n",
        "\n",
        "\n",
        "    return G\n"
      ]
    },
    {
      "cell_type": "code",
      "source": [
        "def count_edges(G: List[List[int]]) -> int:\n",
        "    \"\"\"Counts the number of edges in an undirected graph.\n",
        "\n",
        "    Parameters:\n",
        "    G: an undirected graph as an adjacency list.\n",
        "\n",
        "    Returns:\n",
        "    The number of edges, a non-negative integer.\n",
        "    \"\"\"\n",
        "    n_edges = 0\n",
        "\n",
        "    for v in range(len(G)):\n",
        "        n_edges += len(G[v])\n",
        "\n",
        "    return n_edges//2"
      ],
      "metadata": {
        "id": "QUs16HxOfjT4"
      },
      "execution_count": 157,
      "outputs": []
    },
    {
      "cell_type": "code",
      "source": [
        "def print_graph(G: List[List[int]]):\n",
        "    \"\"\"Prints a graph.\n",
        "\n",
        "    Parameters:\n",
        "    G: the graph expressed as an adjacency list.\n",
        "    \"\"\"\n",
        "    print(f\"# vertices: {len(G)}\")\n",
        "    print(f'# edges: {count_edges(G)}')\n",
        "\n",
        "    for n in range(len(G)):\n",
        "        adj = f\"{n}: \"\n",
        "\n",
        "        print(adj + \",\".join([str(k) for k in G[n]]))"
      ],
      "metadata": {
        "id": "ilx11sgnCS7E"
      },
      "execution_count": 158,
      "outputs": []
    },
    {
      "cell_type": "code",
      "source": [
        "def breadth_first_search(G: List[List[int]], start: int) -> List[int]:\n",
        "    \"\"\"Breadth first search of an undirected graph.\n",
        "\n",
        "    Parameters:\n",
        "    G: the undirected graph as an adjacency list.\n",
        "\n",
        "    Return:\n",
        "    A list of the vertices in which the graph is traversed.\n",
        "    \"\"\"\n",
        "    logger.info(f\"Starting breadth first search from {start}.\")\n",
        "    visited = [False] * len(G)\n",
        "    bfs = []\n",
        "    q = deque()\n",
        "    q.append(start)\n",
        "    visited[start] = True\n",
        "\n",
        "    while q:\n",
        "        v = q.popleft()        \n",
        "        bfs.append(v)\n",
        "        for w in G[v]:\n",
        "            if not visited[w]:\n",
        "                visited[w] = True\n",
        "                q.append(w)\n",
        "\n",
        "    return bfs\n"
      ],
      "metadata": {
        "id": "0meDLmotHFRl"
      },
      "execution_count": 159,
      "outputs": []
    },
    {
      "cell_type": "code",
      "source": [
        "def depth_first_search(G: List[List[int]], start: int) -> List[int]:\n",
        "    \"\"\"Depth first search of an undirected graph.\n",
        "\n",
        "    Parameters:\n",
        "    G: the undirected graph as an adjacency list.\n",
        "\n",
        "    Return:\n",
        "    A list of the vertices in which the graph is traversed.\n",
        "    \"\"\"\n",
        "    logger.info(f\"Starting depth first search from {start}.\")\n",
        "    visited = [False] * len(G)\n",
        "    dfs = []\n",
        "    q = deque()\n",
        "    q.append(start)\n",
        "    visited[start] = True\n",
        "\n",
        "    while q:\n",
        "        v = q.pop()        \n",
        "        dfs.append(v)\n",
        "        for w in G[v]:\n",
        "            if not visited[w]:\n",
        "                visited[w] = True\n",
        "                q.append(w)\n",
        "\n",
        "    return dfs\n"
      ],
      "metadata": {
        "id": "aCWWH2c-VRW2"
      },
      "execution_count": 160,
      "outputs": []
    },
    {
      "cell_type": "code",
      "source": [
        "def check_traversal(G: List[List[int]], t: List[int]):\n",
        "    possible_error = False\n",
        "    error = False\n",
        "\n",
        "    if (len(t) != len(G)):\n",
        "        logger.warning(\"Check if the graph is connected.\")\n",
        "        possible_error = True\n",
        "\n",
        "    for n in range(len(G)):\n",
        "        if n not in t:\n",
        "            logger.warning(f\"Vertex {n} is not being traversed.\")\n",
        "            logger.warning(f\"Check if the graph is connected, #vertices = {len(G)}, #edges = {count_edges(G)}.\")\n",
        "            possible_error = True\n",
        "\n",
        "    freq = {}\n",
        "    for v in t:\n",
        "        freq[v] = freq.get(v, 0) + 1\n",
        "\n",
        "    for k in freq.keys():\n",
        "        if freq[k] > 1:\n",
        "            logger.error(\"Vertex {k} is visited {freq[k]} times.\")\n",
        "            error = True    \n",
        "\n",
        "    if not error:\n",
        "        logger.info(\"Traversal seems to be correct.\")\n"
      ],
      "metadata": {
        "id": "elLoJ7llYEjT"
      },
      "execution_count": 161,
      "outputs": []
    },
    {
      "cell_type": "code",
      "source": [
        "def simple_example():\n",
        "    n_vertices = 5\n",
        "    n_edges = 6\n",
        "\n",
        "    G = create_random_graph(n_vertices, n_edges)\n",
        "    print_graph(G)\n",
        "    bfs = breadth_first_search(G, random.randint(0, n_vertices - 1))\n",
        "    print(bfs)\n",
        "    check_traversal(G, bfs)\n",
        "    dfs = depth_first_search(G, random.randint(0, n_vertices - 1))\n",
        "    print(dfs)\n",
        "    check_traversal(G, dfs)"
      ],
      "metadata": {
        "id": "P0wwRu_wdUP8"
      },
      "execution_count": 162,
      "outputs": []
    },
    {
      "cell_type": "code",
      "source": [
        "def main(mode: int):\n",
        "    if mode not in [1, 2, 3]:\n",
        "        logger.error(\"Incorrect mode, exiting.\")\n",
        "        return\n",
        "\n",
        "    if mode == 1 or mode == 3:\n",
        "        simple_example()\n",
        "\n",
        "    if mode >= 2:\n",
        "        n_tests = 10\n",
        "        logger.info(\"Nothing will be printed unless there is an error.\")\n",
        "        logger.setLevel(logging.WARNING)\n",
        "        for k in range(n_tests):\n",
        "            n_vertices = random.randint(5, 20)\n",
        "            n_edges = random.randint(n_vertices, n_vertices * (n_vertices - 1)//2)\n",
        "            G = create_random_graph(n_vertices, n_edges)\n",
        "            bfs = breadth_first_search(G, random.randint(0, n_vertices - 1))\n",
        "            check_traversal(G, bfs)\n",
        "            dfs = depth_first_search(G, random.randint(0, n_vertices - 1))        \n",
        "            check_traversal(G, dfs)"
      ],
      "metadata": {
        "id": "sOoXJiyOC7r5"
      },
      "execution_count": 163,
      "outputs": []
    },
    {
      "cell_type": "code",
      "source": [
        "if __name__ == '__main__':\n",
        "    logger = logging.getLogger(name = 'basic_undirected_graphs')\n",
        "    logger.setLevel(logging.INFO)\n",
        "    main(3)\n",
        "else:\n",
        "    logging.warnings('Nothing to run.')"
      ],
      "metadata": {
        "colab": {
          "base_uri": "https://localhost:8080/"
        },
        "id": "dgLCIIgVDWln",
        "outputId": "7e1b7dca-7d8f-4911-f962-94a8e3f5f04b"
      },
      "execution_count": 164,
      "outputs": [
        {
          "output_type": "stream",
          "name": "stderr",
          "text": [
            "INFO:basic_undirected_graphs:Starting breadth first search from 3.\n",
            "INFO:basic_undirected_graphs:Traversal seems to be correct.\n",
            "INFO:basic_undirected_graphs:Starting depth first search from 4.\n",
            "INFO:basic_undirected_graphs:Traversal seems to be correct.\n",
            "INFO:basic_undirected_graphs:Nothing will be printed unless there is an error.\n"
          ]
        },
        {
          "output_type": "stream",
          "name": "stdout",
          "text": [
            "# vertices: 5\n",
            "# edges: 6\n",
            "0: 1,2\n",
            "1: 0,4,2\n",
            "2: 4,1,3,0\n",
            "3: 2\n",
            "4: 2,1\n",
            "[3, 2, 4, 1, 0]\n",
            "[4, 1, 0, 2, 3]\n"
          ]
        }
      ]
    }
  ]
}