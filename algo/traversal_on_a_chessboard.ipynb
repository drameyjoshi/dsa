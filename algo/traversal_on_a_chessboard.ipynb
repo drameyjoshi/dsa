{
  "nbformat": 4,
  "nbformat_minor": 0,
  "metadata": {
    "colab": {
      "provenance": [],
      "authorship_tag": "ABX9TyMeClkFpSvxdVWxp4kfp9+y",
      "include_colab_link": true
    },
    "kernelspec": {
      "name": "python3",
      "display_name": "Python 3"
    },
    "language_info": {
      "name": "python"
    }
  },
  "cells": [
    {
      "cell_type": "markdown",
      "metadata": {
        "id": "view-in-github",
        "colab_type": "text"
      },
      "source": [
        "<a href=\"https://colab.research.google.com/github/drameyjoshi/dsa/blob/main/algo/traversal_on_a_chessboard.ipynb\" target=\"_parent\"><img src=\"https://colab.research.google.com/assets/colab-badge.svg\" alt=\"Open In Colab\"/></a>"
      ]
    },
    {
      "cell_type": "markdown",
      "source": [
        "**The Problem**: Consider an array of size $m \\times n$. Let $(r, c)$ be a cell in it. That is, $0 \\le r < m$ and $0 \\le c < n$. One can start at $(r, c)$ and traverse either horizontally or vertically but not diagonally. List the set of cells that one can traverse this way *and* which have the same value as $(r, c)$.\n",
        "\n",
        "**The Solution**: Treat it like a graph traversal problem. The cells are vertices and an edge exists between them if they are either horizontal or vertical neighbours.\n"
      ],
      "metadata": {
        "id": "ppNGM4AKHN9m"
      }
    },
    {
      "cell_type": "code",
      "source": [
        "from collections import deque\n",
        "from typing import List\n",
        "from typing import Tuple"
      ],
      "metadata": {
        "id": "BxkPhuEXJT-i"
      },
      "execution_count": 1,
      "outputs": []
    },
    {
      "cell_type": "code",
      "source": [
        "def is_possible_neighbour(i: int, j: int, nrows: int, ncols: int) -> bool:\n",
        "    if i >= 0 and i < nrows and j >= 0 and j < ncols:\n",
        "        return True\n",
        "    else:\n",
        "        return False"
      ],
      "metadata": {
        "id": "kXp_xWh9KN3X"
      },
      "execution_count": 27,
      "outputs": []
    },
    {
      "cell_type": "code",
      "source": [
        "def get_neighbours(r: int, c: int, M: List[List[int]], nrows: int, ncols: int) -> List[Tuple]:\n",
        "    neighbours = []\n",
        "\n",
        "    if is_possible_neighbour(r + 1, c, nrows, ncols) and M[r + 1][c] == M[r][c]:\n",
        "        neighbours.append((r + 1, c))\n",
        "\n",
        "    if is_possible_neighbour(r - 1, c, nrows, ncols) and M[r - 1][c] == M[r][c]:\n",
        "        neighbours.append((r - 1, c))\n",
        "    \n",
        "    if is_possible_neighbour(r, c - 1, nrows, ncols) and M[r][c - 1] == M[r][c]:\n",
        "        neighbours.append((r, c - 1))\n",
        "\n",
        "    if is_possible_neighbour(r, c + 1, nrows, ncols) and M[r][c + 1] == M[r][c]:\n",
        "        neighbours.append((r, c + 1))\n",
        "\n",
        "    return neighbours"
      ],
      "metadata": {
        "id": "NZuu8OyiJs1p"
      },
      "execution_count": 28,
      "outputs": []
    },
    {
      "cell_type": "code",
      "execution_count": 29,
      "metadata": {
        "id": "e5Qoz9_iHM1-"
      },
      "outputs": [],
      "source": [
        "def all_accessible_positions(M: List[List[int]], r: int, c: int) -> List[Tuple]:\n",
        "    visited = []\n",
        "    nrows = len(M)\n",
        "    ncols = len(M[0])\n",
        "\n",
        "    for i in range(nrows):\n",
        "        visited.append([False] * ncols)\n",
        "\n",
        "    bfs = []\n",
        "    q = deque()\n",
        "    q.append((r, c))\n",
        "    visited[r][c] = True\n",
        "\n",
        "    while q:\n",
        "        i, j = q.popleft()\n",
        "        bfs.append((i, j))\n",
        "        for position in get_neighbours(i, j, M, nrows, ncols):\n",
        "            k, l = position\n",
        "            if not visited[k][l]:\n",
        "                q.append((k, l))\n",
        "                visited[k][l] = True\n",
        "\n",
        "\n",
        "    return bfs"
      ]
    },
    {
      "cell_type": "code",
      "source": [
        "# Size of the chessboard.\n",
        "M = [[1, 1, 1], \n",
        "     [1, 1, 0],\n",
        "     [1, 0, 1]]\n",
        "# Starting position\n",
        "r = 1\n",
        "c = 1\n",
        "\n",
        "bfs = all_accessible_positions(M, r, c)"
      ],
      "metadata": {
        "id": "EadTO7pwMGBG"
      },
      "execution_count": 30,
      "outputs": []
    },
    {
      "cell_type": "code",
      "source": [
        "bfs"
      ],
      "metadata": {
        "colab": {
          "base_uri": "https://localhost:8080/"
        },
        "id": "ZcAQdYPhMvUD",
        "outputId": "05784bae-2836-4c93-b82c-1ccc585a00d7"
      },
      "execution_count": 26,
      "outputs": [
        {
          "output_type": "execute_result",
          "data": {
            "text/plain": [
              "[(1, 1), (0, 1), (1, 0), (0, 0), (0, 2), (2, 0)]"
            ]
          },
          "metadata": {},
          "execution_count": 26
        }
      ]
    }
  ]
}