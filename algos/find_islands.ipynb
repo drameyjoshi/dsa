{
  "nbformat": 4,
  "nbformat_minor": 0,
  "metadata": {
    "colab": {
      "provenance": [],
      "authorship_tag": "ABX9TyO/8zaaoy4fETYPKKCpDNNd",
      "include_colab_link": true
    },
    "kernelspec": {
      "name": "python3",
      "display_name": "Python 3"
    },
    "language_info": {
      "name": "python"
    }
  },
  "cells": [
    {
      "cell_type": "markdown",
      "metadata": {
        "id": "view-in-github",
        "colab_type": "text"
      },
      "source": [
        "<a href=\"https://colab.research.google.com/github/drameyjoshi/dsa/blob/main/algos/find_islands.ipynb\" target=\"_parent\"><img src=\"https://colab.research.google.com/assets/colab-badge.svg\" alt=\"Open In Colab\"/></a>"
      ]
    },
    {
      "cell_type": "markdown",
      "source": [
        "**The Problem**: We are given a boolean matrix $M$. An island in $M$ is a collection of neighbouring entries of all ones. A neighbour of a cell is any other cell that can be reached by making one move horizontally or vertically but not diagonally. Find the number of islands.\n",
        "\n",
        "**The Solution**: Treat the entries of $M$ like vertices of a graph. The number of islands is the number of connected components."
      ],
      "metadata": {
        "id": "OLf6bMLkuayK"
      }
    },
    {
      "cell_type": "code",
      "execution_count": 20,
      "metadata": {
        "id": "A7K5yIMvXrK9"
      },
      "outputs": [],
      "source": [
        "from collections import deque\n",
        "from typing import List\n",
        "from typing import Tuple"
      ]
    },
    {
      "cell_type": "code",
      "source": [
        "def is_possible_neighbour(i: int, j: int, nrows: int, ncols: int) -> bool:\n",
        "    if i >= 0 and i < nrows and j >= 0 and j < ncols:\n",
        "        return True\n",
        "    else:\n",
        "        return False"
      ],
      "metadata": {
        "id": "Udk6imtMvJMt"
      },
      "execution_count": 21,
      "outputs": []
    },
    {
      "cell_type": "code",
      "source": [
        "def get_neighbours(r: int, c: int, M: List[List[int]], nrows: int, ncols: int) -> List[Tuple]:\n",
        "    neighbours = []\n",
        "\n",
        "    if is_possible_neighbour(r + 1, c, nrows, ncols) and M[r + 1][c] == M[r][c]:\n",
        "        neighbours.append((r + 1, c))\n",
        "\n",
        "    if is_possible_neighbour(r - 1, c, nrows, ncols) and M[r - 1][c] == M[r][c]:\n",
        "        neighbours.append((r - 1, c))\n",
        "    \n",
        "    if is_possible_neighbour(r, c - 1, nrows, ncols) and M[r][c - 1] == M[r][c]:\n",
        "        neighbours.append((r, c - 1))\n",
        "\n",
        "    if is_possible_neighbour(r, c + 1, nrows, ncols) and M[r][c + 1] == M[r][c]:\n",
        "        neighbours.append((r, c + 1))\n",
        "\n",
        "    return neighbours"
      ],
      "metadata": {
        "id": "xyP_0YSmvP69"
      },
      "execution_count": 22,
      "outputs": []
    },
    {
      "cell_type": "code",
      "source": [
        "def all_accessible_positions(M: List[List[int]], r: int, c: int, visited: List[List[bool]]) -> List[Tuple]:    \n",
        "    bfs = []\n",
        "    q = deque()\n",
        "    q.append((r, c))\n",
        "    visited[r][c] = True\n",
        "\n",
        "    nrows = len(M)\n",
        "    ncols = len(M[0])\n",
        "\n",
        "    while q:\n",
        "        i, j = q.popleft()\n",
        "        bfs.append((i, j))\n",
        "        for position in get_neighbours(i, j, M, nrows, ncols):\n",
        "            k, l = position\n",
        "            if not visited[k][l]:\n",
        "                q.append((k, l))\n",
        "                visited[k][l] = True\n",
        "\n",
        "\n",
        "    return bfs"
      ],
      "metadata": {
        "id": "VYHjkV4evreu"
      },
      "execution_count": 23,
      "outputs": []
    },
    {
      "cell_type": "code",
      "source": [
        "def get_starting_vertex(M: List[List[int]], visited: List[List[bool]]) -> Tuple:\n",
        "    for i in range(len(M)):\n",
        "        found = False\n",
        "        for j in range(len(M[0])):\n",
        "            if M[i][j] == 1 and not visited[i][j]:\n",
        "                return (i, j)\n",
        "\n",
        "    return (-1, -1)"
      ],
      "metadata": {
        "id": "NGbc4VLKwFrz"
      },
      "execution_count": 24,
      "outputs": []
    },
    {
      "cell_type": "code",
      "source": [
        "def get_connected_components(M: List[List[int]]) -> List[List[int]]:\n",
        "    visited = []\n",
        "    nrows = len(M)\n",
        "    ncols = len(M[0])\n",
        "\n",
        "    for i in range(nrows):\n",
        "        visited.append([False] * ncols)\n",
        "\n",
        "    exhausted = False\n",
        "    components = []\n",
        "    while not exhausted:\n",
        "        (r, c) = get_starting_vertex(M, visited)\n",
        "        if r != -1 or c != -1:\n",
        "            components.append(all_accessible_positions(M, r, c, visited))\n",
        "        else:\n",
        "            exhausted = True\n",
        "\n",
        "    return components\n"
      ],
      "metadata": {
        "id": "jfr_xZQ1v2GV"
      },
      "execution_count": 25,
      "outputs": []
    },
    {
      "cell_type": "code",
      "source": [
        "def main():\n",
        "    M = [[1, 1, 1, 1, 0],\n",
        "         [1, 1, 0, 1, 0],\n",
        "         [1, 1, 0, 0, 0],\n",
        "         [0, 0, 0, 0, 0]]\n",
        "\n",
        "    components = get_connected_components(M)\n",
        "    print(f'# components = {len(components)}')\n",
        "\n",
        "    M = [[1, 1, 0, 0, 0],\n",
        "         [1, 1, 0, 0, 0],\n",
        "         [0, 0, 1, 0, 0],\n",
        "         [0, 0, 0, 1, 1]]\n",
        "\n",
        "    components = get_connected_components(M)\n",
        "    print(f'# components = {len(components)}')\n",
        "\n"
      ],
      "metadata": {
        "id": "mINxfjcvxLQv"
      },
      "execution_count": 26,
      "outputs": []
    },
    {
      "cell_type": "code",
      "source": [
        "if __name__ == '__main__':\n",
        "    main()"
      ],
      "metadata": {
        "colab": {
          "base_uri": "https://localhost:8080/"
        },
        "id": "VJB-aHZRxk9a",
        "outputId": "42aadb1d-0310-4a9d-85c8-4bdd60b5c0d3"
      },
      "execution_count": 27,
      "outputs": [
        {
          "output_type": "stream",
          "name": "stdout",
          "text": [
            "# components = 1\n",
            "# components = 3\n"
          ]
        }
      ]
    }
  ]
}